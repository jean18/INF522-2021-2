{
  "nbformat": 4,
  "nbformat_minor": 0,
  "metadata": {
    "kernelspec": {
      "display_name": "Python 3",
      "language": "python",
      "name": "python3"
    },
    "language_info": {
      "codemirror_mode": {
        "name": "ipython",
        "version": 3
      },
      "file_extension": ".py",
      "mimetype": "text/x-python",
      "name": "python",
      "nbconvert_exporter": "python",
      "pygments_lexer": "ipython3",
      "version": "3.6.5"
    },
    "colab": {
      "name": "TM_3.ipynb",
      "provenance": [],
      "collapsed_sections": [],
      "toc_visible": true,
      "include_colab_link": true
    }
  },
  "cells": [
    {
      "cell_type": "markdown",
      "metadata": {
        "id": "view-in-github",
        "colab_type": "text"
      },
      "source": [
        "<a href=\"https://colab.research.google.com/github/jean18/INF522-2021-2/blob/main/Jupyter%20Notebooks/TM_3.ipynb\" target=\"_parent\"><img src=\"https://colab.research.google.com/assets/colab-badge.svg\" alt=\"Open In Colab\"/></a>"
      ]
    },
    {
      "cell_type": "markdown",
      "metadata": {
        "id": "HThYrqCC0zDR"
      },
      "source": [
        "<img src=\"https://www.inf.utfsm.cl/images/slides/Departamento-de-Informtica_HORIZONTAL.png\" title=\"Title text\" width=\"80%\" />\n",
        "\n",
        "<hr style=\"height:2px;border:none\"/>\n",
        "<h1 align='center'> INF-522 Text Mining 2021-2 </h1>\n",
        "\n",
        "<H3 align='center'> Tema 3 - Fundamentos de text mining </H3>\n",
        "<hr style=\"height:2px;border:none\"/>"
      ]
    },
    {
      "cell_type": "markdown",
      "metadata": {
        "id": "fVnNxLNbbv4O"
      },
      "source": [
        "## Vocabulario\n",
        "\n",
        "##### Perplexity:\n",
        "\n",
        "*   Se basa en la existencia de una partición training/testing del corpus.\n",
        "*   En el testing set, la perplexity es la probabilidad inversa del test set, normalizada por el numero de palabras.\n",
        "$$PP(W)=P(w_{1}w_{2}...w_{N})^{-\\frac{1}{N}} = \\sqrt[N]{\\frac{1}{P(w_{1}w_{2}...w_{N})}}$$\n",
        "*   Usando la regla de la cadena obtenemos: \n",
        "$$PP(W)=\\sqrt[N]{\\prod_{i=1}^{N} \\frac{1}{P(w_{i}|w_{1}...w_{i-1})}}$$\n",
        "*   Para un modelo bi-grama la perplexity es:\n",
        "$$PP(W)=\\sqrt[N]{\\prod_{i=1}^{N} \\frac{1}{P(w_{i}|w_{i-1})}}$$\n",
        "*   Mientras mayor es la probabilidad condicional, menor es la perplejidad.\n",
        "*   Si no existen dependencias, la perplejidad iguala el número de símbolos (Máximo valor) \n",
        "*   Minimizar la perplejidad es lo mismo que maximizar la probabilidad.\n",
        "\n",
        "##### Entropía\n",
        "*   La entropía es una medida de información definida como:\n",
        "$$H(X)=-\\sum_{x \\in X}p(x)log_{2}p(x)$$\n",
        "*   Interpretación: Cota inferior del numero de bits necesarios para codificar X.\n",
        "\n",
        "##### La relación entre perplexity y entropía:\n",
        "$$PP(W) = 2^{H(W)}$$ \n"
      ]
    }
  ]
}