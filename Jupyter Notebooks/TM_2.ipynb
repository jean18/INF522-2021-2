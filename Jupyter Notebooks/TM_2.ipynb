{
  "nbformat": 4,
  "nbformat_minor": 0,
  "metadata": {
    "kernelspec": {
      "display_name": "Python 3",
      "language": "python",
      "name": "python3"
    },
    "language_info": {
      "codemirror_mode": {
        "name": "ipython",
        "version": 3
      },
      "file_extension": ".py",
      "mimetype": "text/x-python",
      "name": "python",
      "nbconvert_exporter": "python",
      "pygments_lexer": "ipython3",
      "version": "3.6.5"
    },
    "colab": {
      "name": "TM_2.ipynb",
      "provenance": [],
      "collapsed_sections": [],
      "toc_visible": true,
      "include_colab_link": true
    }
  },
  "cells": [
    {
      "cell_type": "markdown",
      "metadata": {
        "id": "view-in-github",
        "colab_type": "text"
      },
      "source": [
        "<a href=\"https://colab.research.google.com/github/jean18/INF522-2021-2/blob/main/Jupyter%20Notebooks/TM_2.ipynb\" target=\"_parent\"><img src=\"https://colab.research.google.com/assets/colab-badge.svg\" alt=\"Open In Colab\"/></a>"
      ]
    },
    {
      "cell_type": "markdown",
      "metadata": {
        "id": "HThYrqCC0zDR"
      },
      "source": [
        "<img src=\"https://www.inf.utfsm.cl/images/slides/Departamento-de-Informtica_HORIZONTAL.png\" title=\"Title text\" width=\"80%\" />\n",
        "\n",
        "<hr style=\"height:2px;border:none\"/>\n",
        "<h1 align='center'> INF-522 Text Mining 2021-2 </h1>\n",
        "\n",
        "<H3 align='center'> Tema 2 - Conceptos de NLP </H3>\n",
        "<hr style=\"height:2px;border:none\"/>"
      ]
    },
    {
      "cell_type": "markdown",
      "metadata": {
        "id": "IjhChH4yCkeU"
      },
      "source": [
        "## Librerias"
      ]
    },
    {
      "cell_type": "code",
      "metadata": {
        "id": "DbdVibZTtFdx"
      },
      "source": [
        "# Librerias\n",
        "\n",
        "import nltk \n",
        "import spacy\n",
        "from spacy import displacy\n",
        "from nltk.tokenize import word_tokenize\n",
        "from nltk.collocations import *"
      ],
      "execution_count": null,
      "outputs": []
    },
    {
      "cell_type": "code",
      "metadata": {
        "colab": {
          "base_uri": "https://localhost:8080/"
        },
        "id": "_MrVtzJt3x5l",
        "outputId": "ed248990-67cc-4652-e132-46a069e5575b"
      },
      "source": [
        "nltk.download('punkt')\n",
        "nltk.download('genesis')\n",
        "nltk.download('averaged_perceptron_tagger')"
      ],
      "execution_count": null,
      "outputs": [
        {
          "output_type": "stream",
          "name": "stdout",
          "text": [
            "[nltk_data] Downloading package punkt to /root/nltk_data...\n",
            "[nltk_data]   Package punkt is already up-to-date!\n",
            "[nltk_data] Downloading package genesis to /root/nltk_data...\n",
            "[nltk_data]   Unzipping corpora/genesis.zip.\n",
            "[nltk_data] Downloading package averaged_perceptron_tagger to\n",
            "[nltk_data]     /root/nltk_data...\n",
            "[nltk_data]   Package averaged_perceptron_tagger is already up-to-\n",
            "[nltk_data]       date!\n"
          ]
        },
        {
          "output_type": "execute_result",
          "data": {
            "text/plain": [
              "True"
            ]
          },
          "metadata": {},
          "execution_count": 13
        }
      ]
    },
    {
      "cell_type": "code",
      "metadata": {
        "id": "_5Cjq9CA81gb"
      },
      "source": [
        "!spacy download es_core_news_sm\n",
        "!spacy download es_core_news_md\n",
        "\n",
        "# Reiniciar entorno de ejecucion en google colab despues de la descarga"
      ],
      "execution_count": null,
      "outputs": []
    },
    {
      "cell_type": "markdown",
      "metadata": {
        "id": "h2zRnhMV5120"
      },
      "source": [
        "## Vocabulario\n",
        "\n",
        "##### POS tagging:\n",
        "\n",
        "*   Etiquetar cada termino de acuerdo a la funcion que este cumple en el texto.\n",
        "*   Puede ayudarnos en tareas como deteccion de estilo, parsing, deteccion de colocaciones.\n",
        "*   Tarea importante en NLP.\n",
        "\n",
        "##### ¿Cómo funciona?\n",
        "\n",
        "*   Se dispone de un corpus etiquetado.\n",
        "*   La secuencia de tags es interpretada como una cadena de Markov: $P(x_{t+1} |x_{t}, ..., x{1}) = P(x_{t+1} | x_{t})$\n",
        "*   $x_{1}, ..., x_{t+1}$ representan tags.\n",
        "*   Usamos un modelo generativo para términos, con tags como estados ocultos: $P(t|x_{1}, ..., x_{t+1}) = P(t|x_{t+1})$\n",
        "*   En general muestran buena precision (sobre 90%)\n",
        "\n",
        "##### Dependencias\n",
        "\n",
        "*   El análisis de dependencias es el proceso para analizar la estructura gramatical en una oración y encontrar palabras relacionadas, así como el tipo de relación entre ellas.\n",
        "*   Cada relación tiene una cabeza y una dependiente que modifica la cabeza.\n",
        "*   Se etiqueta según la naturaleza de la dependencia entre el jefe y el dependiente. Estas etiquetas se pueden encontrar en Relaciones de dependencia universales.\n",
        "\n",
        "##### Named Entity Recognition\n",
        "\n",
        "*   Tarea: Identificar entidades en texto (personas, organizaciones, etc.).\n",
        "*   Separa el text en chunks, y para cada cual asocia una NE. Opera sobre texto tagged.\n",
        "*   NER types: Organization, person, location, date, time, money, percent, facility (human made artifacts), gpe (geo-political ents).\n",
        "*   POS tagging puede ayudar, agregando entity como un estado mas.\n",
        "\n",
        "##### Collocations\n",
        "\n",
        "*    Las colocaciones son dos o mas palabras que suelen aparecer juntas con frecuencia, por ejemplo: United States. Hay muchas otras palabras que pueden ir después de “United”, como United kingdom y United Airlines. Como en muchos aspectos del procesamiento del lenguaje natural, el contexto es clave. Y en el caso de las colocaciones, el contexto lo es todo.\n",
        "*    El significado conjunto es mas que la suma de las partes.\n",
        "*    Detectar colocaciones mejora la representación del contenido. \n",
        "*    Cada colocación puede ser procesada como un termino.\n",
        "*    Se pueden detectar analizando co ocurrencias, etiquetando el par como una colocación si su co ocurrencia es mucho mayor que la esperada (azar, equiprobable).\n",
        "\n"
      ]
    },
    {
      "cell_type": "markdown",
      "metadata": {
        "id": "dBLc3-m4tY3G"
      },
      "source": [
        "## POS tagging en NLTK"
      ]
    },
    {
      "cell_type": "code",
      "metadata": {
        "colab": {
          "base_uri": "https://localhost:8080/"
        },
        "id": "5GgdPK3ottNf",
        "outputId": "2c57a809-35e8-4d91-dfc3-cf9ef2708e33"
      },
      "source": [
        "text = word_tokenize(\"And now for something completely different\")\n",
        "\n",
        "nltk.pos_tag(text)"
      ],
      "execution_count": null,
      "outputs": [
        {
          "output_type": "execute_result",
          "data": {
            "text/plain": [
              "[('And', 'CC'),\n",
              " ('now', 'RB'),\n",
              " ('for', 'IN'),\n",
              " ('something', 'NN'),\n",
              " ('completely', 'RB'),\n",
              " ('different', 'JJ')]"
            ]
          },
          "metadata": {},
          "execution_count": 7
        }
      ]
    },
    {
      "cell_type": "code",
      "metadata": {
        "colab": {
          "base_uri": "https://localhost:8080/"
        },
        "id": "M3G3Y0xI33fX",
        "outputId": "893ba15f-4d3b-48a4-a876-54322a6b2c92"
      },
      "source": [
        "text = word_tokenize(\"They refuse to permit us to obtain the refuse permit\")\n",
        "\n",
        "nltk.pos_tag(text)"
      ],
      "execution_count": null,
      "outputs": [
        {
          "output_type": "execute_result",
          "data": {
            "text/plain": [
              "[('They', 'PRP'),\n",
              " ('refuse', 'VBP'),\n",
              " ('to', 'TO'),\n",
              " ('permit', 'VB'),\n",
              " ('us', 'PRP'),\n",
              " ('to', 'TO'),\n",
              " ('obtain', 'VB'),\n",
              " ('the', 'DT'),\n",
              " ('refuse', 'NN'),\n",
              " ('permit', 'NN')]"
            ]
          },
          "metadata": {},
          "execution_count": 9
        }
      ]
    },
    {
      "cell_type": "markdown",
      "metadata": {
        "id": "jZ0shqaI8EkZ"
      },
      "source": [
        "## POS tagging en Spacy (Español)"
      ]
    },
    {
      "cell_type": "code",
      "metadata": {
        "colab": {
          "base_uri": "https://localhost:8080/"
        },
        "id": "aLSxreOI8IuN",
        "outputId": "8ffd0938-e997-42de-a8b0-ce7c9fa32482"
      },
      "source": [
        "nlp = spacy.load('es_core_news_sm')\n",
        "\n",
        "text = \"\"\"Un desastroso espíritu posee tu tierra: donde la tribu unida blandió sus mazas, hoy se enciende entre hermanos perpetua guerra, se hieren y destrozan las mismas razas.\"\"\"\n",
        "\n",
        "doc = nlp(text)\n",
        "\n",
        "for token in doc:\n",
        "  print(token.text, \"|\", token.lemma_, \"|\", token.pos_)"
      ],
      "execution_count": null,
      "outputs": [
        {
          "output_type": "stream",
          "name": "stdout",
          "text": [
            "Un | Un | DET\n",
            "desastroso | desastroso | ADJ\n",
            "espíritu | espíritu | NOUN\n",
            "posee | poseer | VERB\n",
            "tu | tu | DET\n",
            "tierra | tierra | NOUN\n",
            ": | : | PUNCT\n",
            "donde | donde | PRON\n",
            "la | lo | DET\n",
            "tribu | tribu | NOUN\n",
            "unida | unir | ADJ\n",
            "blandió | blandir | VERB\n",
            "sus | su | DET\n",
            "mazas | mazar | NOUN\n",
            ", | , | PUNCT\n",
            "hoy | hoy | ADV\n",
            "se | se | PRON\n",
            "enciende | encender | VERB\n",
            "entre | entrar | ADP\n",
            "hermanos | hermano | NOUN\n",
            "perpetua | perpetuo | PROPN\n",
            "guerra | guerra | PROPN\n",
            ", | , | PUNCT\n",
            "se | se | PRON\n",
            "hieren | herir | VERB\n",
            "y | y | CONJ\n",
            "destrozan | destrozar | VERB\n",
            "las | los | DET\n",
            "mismas | mismo | DET\n",
            "razas | raza | NOUN\n",
            ". | . | PUNCT\n"
          ]
        }
      ]
    },
    {
      "cell_type": "markdown",
      "metadata": {
        "id": "fSqpdtVGBGfq"
      },
      "source": [
        "## POS tagging  y dependencias en Spacy"
      ]
    },
    {
      "cell_type": "code",
      "metadata": {
        "colab": {
          "base_uri": "https://localhost:8080/"
        },
        "id": "v_O8uuLLBF8v",
        "outputId": "ab803b46-680f-4e09-e49e-d3cbe5f886af"
      },
      "source": [
        "nlp = spacy.load('en_core_web_sm')\n",
        "\n",
        "doc = nlp(\"Apple is looking for buting U.K. startup for $1 billion\")\n",
        "\n",
        "for token in doc:\n",
        "  print(token.text, \"|\", token.lemma_, \"|\", token.pos_, \"|\", token.tag_, \"|\", token.dep_, \"|\", token.shape_, \"|\", token.is_alpha, \"|\", token.is_stop)"
      ],
      "execution_count": null,
      "outputs": [
        {
          "output_type": "stream",
          "name": "stdout",
          "text": [
            "Apple | Apple | PROPN | NNP | nsubj | Xxxxx | True | False\n",
            "is | be | AUX | VBZ | aux | xx | True | True\n",
            "looking | look | VERB | VBG | ROOT | xxxx | True | False\n",
            "for | for | ADP | IN | prep | xxx | True | True\n",
            "buting | bute | VERB | VBG | pcomp | xxxx | True | False\n",
            "U.K. | U.K. | PROPN | NNP | compound | X.X. | False | False\n",
            "startup | startup | NOUN | NN | dobj | xxxx | True | False\n",
            "for | for | ADP | IN | prep | xxx | True | True\n",
            "$ | $ | SYM | $ | quantmod | $ | False | False\n",
            "1 | 1 | NUM | CD | compound | d | False | False\n",
            "billion | billion | NUM | CD | pobj | xxxx | True | False\n"
          ]
        }
      ]
    },
    {
      "cell_type": "code",
      "metadata": {
        "colab": {
          "base_uri": "https://localhost:8080/",
          "height": 248
        },
        "id": "B44KG0h2B8BA",
        "outputId": "3406eae9-cf1d-4a3d-94ad-df2984441fcf"
      },
      "source": [
        "nlp = spacy.load('en_core_web_sm')\n",
        "\n",
        "doc = nlp(\"This is a sentence.\")\n",
        "\n",
        "displacy.render(doc, style='dep', jupyter=True, options={'distance': 90})"
      ],
      "execution_count": null,
      "outputs": [
        {
          "output_type": "display_data",
          "data": {
            "text/html": [
              "<span class=\"tex2jax_ignore\"><svg xmlns=\"http://www.w3.org/2000/svg\" xmlns:xlink=\"http://www.w3.org/1999/xlink\" xml:lang=\"en\" id=\"9fe1cf4c264d49ac8417b0b545706984-0\" class=\"displacy\" width=\"410\" height=\"227.0\" direction=\"ltr\" style=\"max-width: none; height: 227.0px; color: #000000; background: #ffffff; font-family: Arial; direction: ltr\">\n",
              "<text class=\"displacy-token\" fill=\"currentColor\" text-anchor=\"middle\" y=\"137.0\">\n",
              "    <tspan class=\"displacy-word\" fill=\"currentColor\" x=\"50\">This</tspan>\n",
              "    <tspan class=\"displacy-tag\" dy=\"2em\" fill=\"currentColor\" x=\"50\">DET</tspan>\n",
              "</text>\n",
              "\n",
              "<text class=\"displacy-token\" fill=\"currentColor\" text-anchor=\"middle\" y=\"137.0\">\n",
              "    <tspan class=\"displacy-word\" fill=\"currentColor\" x=\"140\">is</tspan>\n",
              "    <tspan class=\"displacy-tag\" dy=\"2em\" fill=\"currentColor\" x=\"140\">AUX</tspan>\n",
              "</text>\n",
              "\n",
              "<text class=\"displacy-token\" fill=\"currentColor\" text-anchor=\"middle\" y=\"137.0\">\n",
              "    <tspan class=\"displacy-word\" fill=\"currentColor\" x=\"230\">a</tspan>\n",
              "    <tspan class=\"displacy-tag\" dy=\"2em\" fill=\"currentColor\" x=\"230\">DET</tspan>\n",
              "</text>\n",
              "\n",
              "<text class=\"displacy-token\" fill=\"currentColor\" text-anchor=\"middle\" y=\"137.0\">\n",
              "    <tspan class=\"displacy-word\" fill=\"currentColor\" x=\"320\">sentence.</tspan>\n",
              "    <tspan class=\"displacy-tag\" dy=\"2em\" fill=\"currentColor\" x=\"320\">NOUN</tspan>\n",
              "</text>\n",
              "\n",
              "<g class=\"displacy-arrow\">\n",
              "    <path class=\"displacy-arc\" id=\"arrow-9fe1cf4c264d49ac8417b0b545706984-0-0\" stroke-width=\"2px\" d=\"M70,92.0 C70,47.0 135.0,47.0 135.0,92.0\" fill=\"none\" stroke=\"currentColor\"/>\n",
              "    <text dy=\"1.25em\" style=\"font-size: 0.8em; letter-spacing: 1px\">\n",
              "        <textPath xlink:href=\"#arrow-9fe1cf4c264d49ac8417b0b545706984-0-0\" class=\"displacy-label\" startOffset=\"50%\" side=\"left\" fill=\"currentColor\" text-anchor=\"middle\">nsubj</textPath>\n",
              "    </text>\n",
              "    <path class=\"displacy-arrowhead\" d=\"M70,94.0 L62,82.0 78,82.0\" fill=\"currentColor\"/>\n",
              "</g>\n",
              "\n",
              "<g class=\"displacy-arrow\">\n",
              "    <path class=\"displacy-arc\" id=\"arrow-9fe1cf4c264d49ac8417b0b545706984-0-1\" stroke-width=\"2px\" d=\"M250,92.0 C250,47.0 315.0,47.0 315.0,92.0\" fill=\"none\" stroke=\"currentColor\"/>\n",
              "    <text dy=\"1.25em\" style=\"font-size: 0.8em; letter-spacing: 1px\">\n",
              "        <textPath xlink:href=\"#arrow-9fe1cf4c264d49ac8417b0b545706984-0-1\" class=\"displacy-label\" startOffset=\"50%\" side=\"left\" fill=\"currentColor\" text-anchor=\"middle\">det</textPath>\n",
              "    </text>\n",
              "    <path class=\"displacy-arrowhead\" d=\"M250,94.0 L242,82.0 258,82.0\" fill=\"currentColor\"/>\n",
              "</g>\n",
              "\n",
              "<g class=\"displacy-arrow\">\n",
              "    <path class=\"displacy-arc\" id=\"arrow-9fe1cf4c264d49ac8417b0b545706984-0-2\" stroke-width=\"2px\" d=\"M160,92.0 C160,2.0 320.0,2.0 320.0,92.0\" fill=\"none\" stroke=\"currentColor\"/>\n",
              "    <text dy=\"1.25em\" style=\"font-size: 0.8em; letter-spacing: 1px\">\n",
              "        <textPath xlink:href=\"#arrow-9fe1cf4c264d49ac8417b0b545706984-0-2\" class=\"displacy-label\" startOffset=\"50%\" side=\"left\" fill=\"currentColor\" text-anchor=\"middle\">attr</textPath>\n",
              "    </text>\n",
              "    <path class=\"displacy-arrowhead\" d=\"M320.0,94.0 L328.0,82.0 312.0,82.0\" fill=\"currentColor\"/>\n",
              "</g>\n",
              "</svg></span>"
            ],
            "text/plain": [
              "<IPython.core.display.HTML object>"
            ]
          },
          "metadata": {}
        }
      ]
    },
    {
      "cell_type": "markdown",
      "metadata": {
        "id": "XBZeJVjXCikl"
      },
      "source": [
        "## Named Entity Recognition en Spacy"
      ]
    },
    {
      "cell_type": "code",
      "metadata": {
        "colab": {
          "base_uri": "https://localhost:8080/",
          "height": 157
        },
        "id": "RVLEIyQkCgdY",
        "outputId": "1e693f74-101a-4b33-a63f-4f1f15e31400"
      },
      "source": [
        "nlp_md = spacy.load('es_core_news_md')\n",
        "\n",
        "article_text = \"\"\"La ONG Fundación del Río explico este viernes que la decisión de Organización de la ONU para la Educación, la Ciencia y la Cultura (Unesco) de declarar \n",
        "                  como geoparque el rio Coco, ubicado al norte de Nicaragua, obliga a las autoridades nicaragüenses a proteger su ecosistema, ya que se encuentra en el área mas deforestada \n",
        "                  de la cuenca. La Unesco esta reconociendo la importancia del rio Coco, pero también esta haciendo un llamado al Gobierno a que actúe en la protección y la conservación de \n",
        "                  esos ecosistemas, dijo a Efe el presidente de la Fundación de Río, Amaru Ruiz\"\"\"\n",
        "\n",
        "doc = nlp_md(article_text)\n",
        "\n",
        "displacy.render(doc, style='ent', jupyter=True, options={'distance': 90})"
      ],
      "execution_count": null,
      "outputs": [
        {
          "output_type": "display_data",
          "data": {
            "text/html": [
              "<span class=\"tex2jax_ignore\"><div class=\"entities\" style=\"line-height: 2.5; direction: ltr\">La ONG \n",
              "<mark class=\"entity\" style=\"background: #ddd; padding: 0.45em 0.6em; margin: 0 0.25em; line-height: 1; border-radius: 0.35em;\">\n",
              "    Fundación del Río\n",
              "    <span style=\"font-size: 0.8em; font-weight: bold; line-height: 1; border-radius: 0.35em; text-transform: uppercase; vertical-align: middle; margin-left: 0.5rem\">MISC</span>\n",
              "</mark>\n",
              " explico este viernes que la decisión de \n",
              "<mark class=\"entity\" style=\"background: #7aecec; padding: 0.45em 0.6em; margin: 0 0.25em; line-height: 1; border-radius: 0.35em;\">\n",
              "    Organización de la ONU para la Educación, la Ciencia y la Cultura\n",
              "    <span style=\"font-size: 0.8em; font-weight: bold; line-height: 1; border-radius: 0.35em; text-transform: uppercase; vertical-align: middle; margin-left: 0.5rem\">ORG</span>\n",
              "</mark>\n",
              " (\n",
              "<mark class=\"entity\" style=\"background: #7aecec; padding: 0.45em 0.6em; margin: 0 0.25em; line-height: 1; border-radius: 0.35em;\">\n",
              "    Unesco\n",
              "    <span style=\"font-size: 0.8em; font-weight: bold; line-height: 1; border-radius: 0.35em; text-transform: uppercase; vertical-align: middle; margin-left: 0.5rem\">ORG</span>\n",
              "</mark>\n",
              ") de declarar </br>                  como geoparque el \n",
              "<mark class=\"entity\" style=\"background: #ff9561; padding: 0.45em 0.6em; margin: 0 0.25em; line-height: 1; border-radius: 0.35em;\">\n",
              "    rio Coco\n",
              "    <span style=\"font-size: 0.8em; font-weight: bold; line-height: 1; border-radius: 0.35em; text-transform: uppercase; vertical-align: middle; margin-left: 0.5rem\">LOC</span>\n",
              "</mark>\n",
              ", ubicado al norte de \n",
              "<mark class=\"entity\" style=\"background: #ff9561; padding: 0.45em 0.6em; margin: 0 0.25em; line-height: 1; border-radius: 0.35em;\">\n",
              "    Nicaragua\n",
              "    <span style=\"font-size: 0.8em; font-weight: bold; line-height: 1; border-radius: 0.35em; text-transform: uppercase; vertical-align: middle; margin-left: 0.5rem\">LOC</span>\n",
              "</mark>\n",
              ", obliga a las autoridades nicaragüenses a proteger su ecosistema, ya que se encuentra en el área mas deforestada </br>                  de la cuenca. \n",
              "<mark class=\"entity\" style=\"background: #ff9561; padding: 0.45em 0.6em; margin: 0 0.25em; line-height: 1; border-radius: 0.35em;\">\n",
              "    La Unesco\n",
              "    <span style=\"font-size: 0.8em; font-weight: bold; line-height: 1; border-radius: 0.35em; text-transform: uppercase; vertical-align: middle; margin-left: 0.5rem\">LOC</span>\n",
              "</mark>\n",
              " esta reconociendo la importancia del \n",
              "<mark class=\"entity\" style=\"background: #ff9561; padding: 0.45em 0.6em; margin: 0 0.25em; line-height: 1; border-radius: 0.35em;\">\n",
              "    rio Coco\n",
              "    <span style=\"font-size: 0.8em; font-weight: bold; line-height: 1; border-radius: 0.35em; text-transform: uppercase; vertical-align: middle; margin-left: 0.5rem\">LOC</span>\n",
              "</mark>\n",
              ", pero también esta haciendo un llamado al \n",
              "<mark class=\"entity\" style=\"background: #ff9561; padding: 0.45em 0.6em; margin: 0 0.25em; line-height: 1; border-radius: 0.35em;\">\n",
              "    Gobierno\n",
              "    <span style=\"font-size: 0.8em; font-weight: bold; line-height: 1; border-radius: 0.35em; text-transform: uppercase; vertical-align: middle; margin-left: 0.5rem\">LOC</span>\n",
              "</mark>\n",
              " a que actúe en la protección y la conservación de </br>                  esos ecosistemas, dijo a \n",
              "<mark class=\"entity\" style=\"background: #7aecec; padding: 0.45em 0.6em; margin: 0 0.25em; line-height: 1; border-radius: 0.35em;\">\n",
              "    Efe\n",
              "    <span style=\"font-size: 0.8em; font-weight: bold; line-height: 1; border-radius: 0.35em; text-transform: uppercase; vertical-align: middle; margin-left: 0.5rem\">ORG</span>\n",
              "</mark>\n",
              " el presidente de la \n",
              "<mark class=\"entity\" style=\"background: #ddd; padding: 0.45em 0.6em; margin: 0 0.25em; line-height: 1; border-radius: 0.35em;\">\n",
              "    Fundación de Río\n",
              "    <span style=\"font-size: 0.8em; font-weight: bold; line-height: 1; border-radius: 0.35em; text-transform: uppercase; vertical-align: middle; margin-left: 0.5rem\">MISC</span>\n",
              "</mark>\n",
              ", \n",
              "<mark class=\"entity\" style=\"background: #ddd; padding: 0.45em 0.6em; margin: 0 0.25em; line-height: 1; border-radius: 0.35em;\">\n",
              "    Amaru Ruiz\n",
              "    <span style=\"font-size: 0.8em; font-weight: bold; line-height: 1; border-radius: 0.35em; text-transform: uppercase; vertical-align: middle; margin-left: 0.5rem\">PER</span>\n",
              "</mark>\n",
              "</div></span>"
            ],
            "text/plain": [
              "<IPython.core.display.HTML object>"
            ]
          },
          "metadata": {}
        }
      ]
    },
    {
      "cell_type": "markdown",
      "metadata": {
        "id": "ZekxXMMjHMT7"
      },
      "source": [
        "## Collocations en NLTK"
      ]
    },
    {
      "cell_type": "code",
      "metadata": {
        "colab": {
          "base_uri": "https://localhost:8080/"
        },
        "id": "StdhJMrKHIeW",
        "outputId": "4071677c-262c-4555-dd4d-25ed2e05d7a3"
      },
      "source": [
        "bigram_measures = nltk.collocations.BigramAssocMeasures()\n",
        "trigram_measures = nltk.collocations.TrigramAssocMeasures()\n",
        "finder = BigramCollocationFinder.from_words(nltk.corpus.genesis.words('english-web.txt'))\n",
        "finder.nbest(bigram_measures.pmi, 10) # doctest: +NORMALIZE_WHITESPACE"
      ],
      "execution_count": null,
      "outputs": [
        {
          "output_type": "execute_result",
          "data": {
            "text/plain": [
              "[('Allon', 'Bacuth'),\n",
              " ('Ashteroth', 'Karnaim'),\n",
              " ('Ben', 'Ammi'),\n",
              " ('En', 'Mishpat'),\n",
              " ('Jegar', 'Sahadutha'),\n",
              " ('Salt', 'Sea'),\n",
              " ('Whoever', 'sheds'),\n",
              " ('appoint', 'overseers'),\n",
              " ('aromatic', 'resin'),\n",
              " ('cutting', 'instrument')]"
            ]
          },
          "metadata": {},
          "execution_count": 17
        }
      ]
    },
    {
      "cell_type": "code",
      "metadata": {
        "colab": {
          "base_uri": "https://localhost:8080/"
        },
        "id": "FacG9JdHIJuC",
        "outputId": "ebfa918e-b23f-4f32-b605-7e91fa64b2c0"
      },
      "source": [
        "# Podemos usar un umbral de frecuencia absoluta para encontrar collocations frecuentes y luego rankear usando PMI\n",
        "# pmi(x,y) = log(p(x,y) / p(x)p(y))\n",
        "\n",
        "finder.apply_freq_filter(3)\n",
        "finder.nbest(bigram_measures.pmi, 10) # doctest: +NORMALIZE_WHITESPACE"
      ],
      "execution_count": null,
      "outputs": [
        {
          "output_type": "execute_result",
          "data": {
            "text/plain": [
              "[('Beer', 'Lahai'),\n",
              " ('Lahai', 'Roi'),\n",
              " ('gray', 'hairs'),\n",
              " ('Most', 'High'),\n",
              " ('ewe', 'lambs'),\n",
              " ('many', 'colors'),\n",
              " ('burnt', 'offering'),\n",
              " ('Paddan', 'Aram'),\n",
              " ('east', 'wind'),\n",
              " ('living', 'creature')]"
            ]
          },
          "metadata": {},
          "execution_count": 19
        }
      ]
    }
  ]
}