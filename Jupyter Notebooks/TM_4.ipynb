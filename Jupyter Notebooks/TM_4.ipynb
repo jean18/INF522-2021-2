{
  "nbformat": 4,
  "nbformat_minor": 0,
  "metadata": {
    "kernelspec": {
      "display_name": "Python 3",
      "language": "python",
      "name": "python3"
    },
    "language_info": {
      "codemirror_mode": {
        "name": "ipython",
        "version": 3
      },
      "file_extension": ".py",
      "mimetype": "text/x-python",
      "name": "python",
      "nbconvert_exporter": "python",
      "pygments_lexer": "ipython3",
      "version": "3.6.5"
    },
    "colab": {
      "name": "TM_4.ipynb",
      "provenance": [],
      "collapsed_sections": [],
      "toc_visible": true,
      "include_colab_link": true
    }
  },
  "cells": [
    {
      "cell_type": "markdown",
      "metadata": {
        "id": "view-in-github",
        "colab_type": "text"
      },
      "source": [
        "<a href=\"https://colab.research.google.com/github/jean18/INF522-2021-2/blob/main/Jupyter%20Notebooks/TM_4.ipynb\" target=\"_parent\"><img src=\"https://colab.research.google.com/assets/colab-badge.svg\" alt=\"Open In Colab\"/></a>"
      ]
    },
    {
      "cell_type": "markdown",
      "metadata": {
        "id": "HThYrqCC0zDR"
      },
      "source": [
        "<img src=\"https://www.inf.utfsm.cl/images/slides/Departamento-de-Informtica_HORIZONTAL.png\" title=\"Title text\" width=\"80%\" />\n",
        "\n",
        "<hr style=\"height:2px;border:none\"/>\n",
        "<h1 align='center'> INF-522 Text Mining 2021-2 </h1>\n",
        "\n",
        "<H3 align='center'> Tema 4 - Fundamentos de text mining </H3>\n",
        "<hr style=\"height:2px;border:none\"/>"
      ]
    },
    {
      "cell_type": "markdown",
      "metadata": {
        "id": "LUZJ6aoOxt-Q"
      },
      "source": [
        "## Librerias"
      ]
    },
    {
      "cell_type": "code",
      "metadata": {
        "id": "DbdVibZTtFdx"
      },
      "source": [
        "# Librerias\n",
        "\n",
        "import pandas as pd\n",
        "from sklearn.model_selection import train_test_split\n",
        "from sklearn.feature_extraction.text import CountVectorizer\n",
        "from sklearn.naive_bayes import MultinomialNB\n",
        "from sklearn.linear_model import LogisticRegression\n",
        "from sklearn.metrics import accuracy_score, precision_score, recall_score"
      ],
      "execution_count": 43,
      "outputs": []
    },
    {
      "cell_type": "markdown",
      "metadata": {
        "id": "YW2zc61IxjAh"
      },
      "source": [
        "## Vocabulario\n",
        "\n",
        "##### BOW (Bag-of-Words):\n",
        "\n",
        "*   Es una forma de representar los datos de un texto.\n",
        "*   Describe la aparición de las palabras en un texto.\n",
        "*   Requiere de dos cosas: Un vocabulario de palabras conocidas y una medida de la presencia de esas palabras.\n",
        "*   Se llama bolsa de palabras porque no importa el orden de las palabras en el texto, solo importa la cantidad de veces que aparecen las palabras en el texto.\n"
      ]
    },
    {
      "cell_type": "markdown",
      "metadata": {
        "id": "dBLc3-m4tY3G"
      },
      "source": [
        "## Naive Bayes  "
      ]
    },
    {
      "cell_type": "code",
      "metadata": {
        "colab": {
          "base_uri": "https://localhost:8080/",
          "height": 204
        },
        "id": "5GgdPK3ottNf",
        "outputId": "0a53985f-24d5-4ec5-b1a5-bd1eb923d2c2"
      },
      "source": [
        "df = pd.DataFrame({'reviews': ['the food is good', \n",
        "                               'the food is bad',\n",
        "                               'the food is tasty',\n",
        "                               'i loved the food',\n",
        "                               'bad food it is'],\n",
        "                   'sentiment': [1, 0, 1, 1, 0]})\n",
        "df.head()"
      ],
      "execution_count": 5,
      "outputs": [
        {
          "output_type": "execute_result",
          "data": {
            "text/html": [
              "<div>\n",
              "<style scoped>\n",
              "    .dataframe tbody tr th:only-of-type {\n",
              "        vertical-align: middle;\n",
              "    }\n",
              "\n",
              "    .dataframe tbody tr th {\n",
              "        vertical-align: top;\n",
              "    }\n",
              "\n",
              "    .dataframe thead th {\n",
              "        text-align: right;\n",
              "    }\n",
              "</style>\n",
              "<table border=\"1\" class=\"dataframe\">\n",
              "  <thead>\n",
              "    <tr style=\"text-align: right;\">\n",
              "      <th></th>\n",
              "      <th>reviews</th>\n",
              "      <th>sentiment</th>\n",
              "    </tr>\n",
              "  </thead>\n",
              "  <tbody>\n",
              "    <tr>\n",
              "      <th>0</th>\n",
              "      <td>the food is good</td>\n",
              "      <td>1</td>\n",
              "    </tr>\n",
              "    <tr>\n",
              "      <th>1</th>\n",
              "      <td>the food is bad</td>\n",
              "      <td>0</td>\n",
              "    </tr>\n",
              "    <tr>\n",
              "      <th>2</th>\n",
              "      <td>the food is tasty</td>\n",
              "      <td>1</td>\n",
              "    </tr>\n",
              "    <tr>\n",
              "      <th>3</th>\n",
              "      <td>i loved the food</td>\n",
              "      <td>1</td>\n",
              "    </tr>\n",
              "    <tr>\n",
              "      <th>4</th>\n",
              "      <td>bad food it is</td>\n",
              "      <td>0</td>\n",
              "    </tr>\n",
              "  </tbody>\n",
              "</table>\n",
              "</div>"
            ],
            "text/plain": [
              "             reviews  sentiment\n",
              "0   the food is good          1\n",
              "1    the food is bad          0\n",
              "2  the food is tasty          1\n",
              "3   i loved the food          1\n",
              "4     bad food it is          0"
            ]
          },
          "metadata": {},
          "execution_count": 5
        }
      ]
    },
    {
      "cell_type": "code",
      "metadata": {
        "colab": {
          "base_uri": "https://localhost:8080/",
          "height": 142
        },
        "id": "juFBRPcV2eqp",
        "outputId": "acbf194b-d0eb-4895-c662-ff2b7aeb7d37"
      },
      "source": [
        "# Split data into train and test\n",
        "X_train, X_test, y_train, y_test = train_test_split(df['reviews'], df['sentiment'], random_state=1)\n",
        "\n",
        "cv = CountVectorizer(strip_accents='ascii', token_pattern=u'(?ui)\\\\b\\\\w*[a-z]+\\\\w*\\\\b', lowercase=True, stop_words='english')\n",
        "\n",
        "X_train_cv = cv.fit_transform(X_train)\n",
        "X_test_cv = cv.transform(X_test)\n",
        "\n",
        "word_freq_df = pd.DataFrame(X_train_cv.toarray(), columns=cv.get_feature_names())\n",
        "word_freq_df"
      ],
      "execution_count": 19,
      "outputs": [
        {
          "output_type": "execute_result",
          "data": {
            "text/html": [
              "<div>\n",
              "<style scoped>\n",
              "    .dataframe tbody tr th:only-of-type {\n",
              "        vertical-align: middle;\n",
              "    }\n",
              "\n",
              "    .dataframe tbody tr th {\n",
              "        vertical-align: top;\n",
              "    }\n",
              "\n",
              "    .dataframe thead th {\n",
              "        text-align: right;\n",
              "    }\n",
              "</style>\n",
              "<table border=\"1\" class=\"dataframe\">\n",
              "  <thead>\n",
              "    <tr style=\"text-align: right;\">\n",
              "      <th></th>\n",
              "      <th>bad</th>\n",
              "      <th>food</th>\n",
              "      <th>good</th>\n",
              "      <th>loved</th>\n",
              "    </tr>\n",
              "  </thead>\n",
              "  <tbody>\n",
              "    <tr>\n",
              "      <th>0</th>\n",
              "      <td>1</td>\n",
              "      <td>1</td>\n",
              "      <td>0</td>\n",
              "      <td>0</td>\n",
              "    </tr>\n",
              "    <tr>\n",
              "      <th>1</th>\n",
              "      <td>0</td>\n",
              "      <td>1</td>\n",
              "      <td>1</td>\n",
              "      <td>0</td>\n",
              "    </tr>\n",
              "    <tr>\n",
              "      <th>2</th>\n",
              "      <td>0</td>\n",
              "      <td>1</td>\n",
              "      <td>0</td>\n",
              "      <td>1</td>\n",
              "    </tr>\n",
              "  </tbody>\n",
              "</table>\n",
              "</div>"
            ],
            "text/plain": [
              "   bad  food  good  loved\n",
              "0    1     1     0      0\n",
              "1    0     1     1      0\n",
              "2    0     1     0      1"
            ]
          },
          "metadata": {},
          "execution_count": 19
        }
      ]
    },
    {
      "cell_type": "code",
      "metadata": {
        "colab": {
          "base_uri": "https://localhost:8080/"
        },
        "id": "qxRVwTC53pYL",
        "outputId": "7641c0e9-f353-48fe-fdd2-054085a1c16b"
      },
      "source": [
        "naive_bayes = MultinomialNB()\n",
        "naive_bayes.fit(X_train_cv, y_train)\n",
        "predictions = naive_bayes.predict(X_test_cv)\n",
        "\n",
        "for i in range(len(X_test)):\n",
        "  print('review =', X_test.values[i], '| prediction =', predictions[i])"
      ],
      "execution_count": 39,
      "outputs": [
        {
          "output_type": "stream",
          "name": "stdout",
          "text": [
            "review = the food is tasty | prediction = 1\n",
            "review = the food is bad | prediction = 0\n"
          ]
        }
      ]
    },
    {
      "cell_type": "code",
      "metadata": {
        "colab": {
          "base_uri": "https://localhost:8080/"
        },
        "id": "kn3IMqBc4NrW",
        "outputId": "16a33b1f-9193-4840-f5a9-b74c6cb208ef"
      },
      "source": [
        "print('Accuracy score: ', accuracy_score(y_test, predictions))\n",
        "print('Precision score: ', precision_score(y_test, predictions))\n",
        "print('Recall score: ', recall_score(y_test, predictions))"
      ],
      "execution_count": 42,
      "outputs": [
        {
          "output_type": "stream",
          "name": "stdout",
          "text": [
            "Accuracy score:  1.0\n",
            "Precision score:  1.0\n",
            "Recall score:  1.0\n"
          ]
        }
      ]
    },
    {
      "cell_type": "markdown",
      "metadata": {
        "id": "gm8vWwVN5WQs"
      },
      "source": [
        "## Regresión Logística   "
      ]
    },
    {
      "cell_type": "code",
      "metadata": {
        "colab": {
          "base_uri": "https://localhost:8080/"
        },
        "id": "BpLnvloa6Fxg",
        "outputId": "a6e685bf-b177-4912-a712-561cb39cf037"
      },
      "source": [
        "lr = LogisticRegression()\n",
        "lr.fit(X_train_cv, y_train)\n",
        "predictions = lr.predict(X_test_cv)\n",
        "\n",
        "for i in range(len(X_test)):\n",
        "  print('review =', X_test.values[i], '| prediction =', predictions[i])"
      ],
      "execution_count": 45,
      "outputs": [
        {
          "output_type": "stream",
          "name": "stdout",
          "text": [
            "review = the food is tasty | prediction = 1\n",
            "review = the food is bad | prediction = 1\n"
          ]
        }
      ]
    },
    {
      "cell_type": "code",
      "metadata": {
        "colab": {
          "base_uri": "https://localhost:8080/"
        },
        "id": "l1JUHEdR6YBx",
        "outputId": "1ccc2f9e-0e76-4b6a-8dc6-d27e54b1297d"
      },
      "source": [
        "print('Accuracy score: ', accuracy_score(y_test, predictions))\n",
        "print('Precision score: ', precision_score(y_test, predictions))\n",
        "print('Recall score: ', recall_score(y_test, predictions))"
      ],
      "execution_count": 46,
      "outputs": [
        {
          "output_type": "stream",
          "name": "stdout",
          "text": [
            "Accuracy score:  0.5\n",
            "Precision score:  0.5\n",
            "Recall score:  1.0\n"
          ]
        }
      ]
    }
  ]
}