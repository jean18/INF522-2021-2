{
  "nbformat": 4,
  "nbformat_minor": 0,
  "metadata": {
    "kernelspec": {
      "display_name": "Python 3",
      "language": "python",
      "name": "python3"
    },
    "language_info": {
      "codemirror_mode": {
        "name": "ipython",
        "version": 3
      },
      "file_extension": ".py",
      "mimetype": "text/x-python",
      "name": "python",
      "nbconvert_exporter": "python",
      "pygments_lexer": "ipython3",
      "version": "3.6.5"
    },
    "colab": {
      "name": "TM_5.ipynb",
      "provenance": [],
      "collapsed_sections": [],
      "toc_visible": true,
      "include_colab_link": true
    }
  },
  "cells": [
    {
      "cell_type": "markdown",
      "metadata": {
        "id": "view-in-github",
        "colab_type": "text"
      },
      "source": [
        "<a href=\"https://colab.research.google.com/github/jean18/INF522-2021-2/blob/main/Jupyter%20Notebooks/TM_5.ipynb\" target=\"_parent\"><img src=\"https://colab.research.google.com/assets/colab-badge.svg\" alt=\"Open In Colab\"/></a>"
      ]
    },
    {
      "cell_type": "markdown",
      "metadata": {
        "id": "HThYrqCC0zDR"
      },
      "source": [
        "<img src=\"https://www.inf.utfsm.cl/images/slides/Departamento-de-Informtica_HORIZONTAL.png\" title=\"Title text\" width=\"80%\" />\n",
        "\n",
        "<hr style=\"height:2px;border:none\"/>\n",
        "<h1 align='center'> INF-522 Text Mining 2021-2 </h1>\n",
        "\n",
        "<H3 align='center'> Tema 5 - Fundamentos de text mining </H3>\n",
        "<hr style=\"height:2px;border:none\"/>"
      ]
    },
    {
      "cell_type": "markdown",
      "metadata": {
        "id": "0uA25s95To5e"
      },
      "source": [
        "## Vocabulario\n",
        "\n",
        "##### Matriz términos-documentos:\n",
        "\n",
        "*   Las filas corresponden a términos.\n",
        "*   Las columnas corresponden a los documentos.\n",
        "*   Corresponde a una matriz de ocurrencia de términos en documentos.\n",
        "*   Cada documento es un vector en el espacio vectorial de términos.\n",
        "*   Cada término es una dimensión en el espacio vectorial de términos.\n",
        "*   $f_{i,j}$ = Número de ocurrencias de $t_{i}$ (término i) en $d_{j}$ (documento j).\n",
        "*   Máx $f_{I,j}$ = Número de ocurrencias del $t$ (término) más frecuente en $d_{j}$  (documento j).\n",
        "*   $N$ = Número de documentos.\n",
        "*   $n_{i}$ = Número de documentos donde $t_{i}$ (termino i) ocurre.\n",
        "\n",
        "##### TF $\\in [0, 1]$\n",
        "\n",
        "$$Tf_{i,j}=\\frac{f_{i,j}}{\\max f_{I,j}}$$\n",
        "\n",
        "##### Idf\n",
        "\n",
        "$$idf_{t,i}=\\log_{10}\\frac{N}{n_{i}}$$\n",
        "\n",
        "##### TF-Idf (Salton)\n",
        "\n",
        "$$w_{i,j}=(1+\\log_{10}f_{i,j})\\log_{10}\\frac{N}{n_{i}}$$\n",
        "\n",
        "\n",
        "##### TF-Idf\n",
        "\n",
        "$$w_{i,j}=\\frac{f_{i,j}}{\\max f_{I,j}}\\log_{10}\\frac{N}{n_{i}}$$\n",
        "\n",
        "##### Positive pintwise mutual information (PPMI)\n",
        "\n",
        "*    Se usa en matrices término – término.\n",
        "*    PPMI mide cuan a menudo dos eventos ocurren, comparados con el valor esperado de ocurrencias si ambos eventos fueran independientes:\n",
        "\n",
        "$$PPMI(w,c) =max(\\log_{2}\\frac{P(w,c)}{P(w)P(c)}, 0)$$\n",
        "\n",
        "*    Se usa la función piso (max) para restringir los valores a los reales positivos.\n",
        "*    Las filas corresponden a palabras (w) y las columnas a contextos (c), de Wikipedia como por ejemplo software, datos, azúcar, etc."
      ]
    }
  ]
}